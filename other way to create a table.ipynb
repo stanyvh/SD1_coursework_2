{
 "cells": [
  {
   "cell_type": "code",
   "execution_count": 8,
   "id": "7928aeb5",
   "metadata": {},
   "outputs": [
    {
     "name": "stdout",
     "output_type": "stream",
     "text": [
      "ID        Name      Age       \n",
      "1         John      35        \n",
      "2         Joseph    40        \n"
     ]
    }
   ],
   "source": [
    "header = ['ID', 'Name', 'Age']\n",
    "data = ['1', 'John', '35'], ['2', 'Joseph', '40']\n",
    "\n",
    "format_row = \"{:<10}\" * (len(header))\n",
    "print(format_row.format(*header))\n",
    "for header, row in zip(header, data):\n",
    "    print(format_row.format(*row))\n",
    "    \n",
    "    "
   ]
  },
  {
   "cell_type": "code",
   "execution_count": null,
   "id": "66b54240",
   "metadata": {},
   "outputs": [],
   "source": []
  }
 ],
 "metadata": {
  "kernelspec": {
   "display_name": "Python 3",
   "language": "python",
   "name": "python3"
  },
  "language_info": {
   "codemirror_mode": {
    "name": "ipython",
    "version": 3
   },
   "file_extension": ".py",
   "mimetype": "text/x-python",
   "name": "python",
   "nbconvert_exporter": "python",
   "pygments_lexer": "ipython3",
   "version": "3.8.8"
  }
 },
 "nbformat": 4,
 "nbformat_minor": 5
}
