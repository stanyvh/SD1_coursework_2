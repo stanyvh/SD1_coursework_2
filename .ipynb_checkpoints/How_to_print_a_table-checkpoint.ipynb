{
 "cells": [
  {
   "cell_type": "code",
   "execution_count": 7,
   "id": "e2a5ba46",
   "metadata": {},
   "outputs": [
    {
     "name": "stdout",
     "output_type": "stream",
     "text": [
      "UID             Name            D.o.B.          Age             Western Zodiac  \n",
      "1               name #1         1995-11-26      25              Sagittarius     \n",
      "2               name #2         1999-12-10      25              something else  \n",
      "3               name #3         1995-11-26      25              Sagittarius     \n",
      "4               name #4         1999-12-10      25              something else  \n"
     ]
    }
   ],
   "source": [
    "# How to print a table from a list of lists.\n",
    "a_list = [['UID', 'Name', 'D.o.B.', 'Age', 'Western Zodiac'], \n",
    "          ['1', 'name #1', '1995-11-26', '25', 'Sagittarius'],\n",
    "          ['2', 'name #2', '1999-12-10', '25', 'something else'],\n",
    "          ['3', 'name #3', '1995-11-26', '25', 'Sagittarius'],\n",
    "          ['4', 'name #4', '1999-12-10', '25', 'something else'] ]\n",
    "\n",
    "def print_table(a_list_of_lists):\n",
    "    \"\"\"This function prints a table\"\"\"\n",
    "    \n",
    "    # I iterate over every element of every list in the main list. \n",
    "    # and save the length of that element in a list. \n",
    "    # the length is used for formatting. \n",
    "    length_list = []\n",
    "    for row in a_list_of_lists:\n",
    "        for element in row: \n",
    "            length_list.append(len(element))\n",
    "\n",
    "    # I then take the largest length and assign it to column_width, \n",
    "    # which we will use for the column width for our table\n",
    "    # so that every element fits. \n",
    "    column_width = max(length_list)\n",
    "\n",
    "    # Iterate over every list in the list. \n",
    "    for row in a_list_of_lists:\n",
    "        \n",
    "            # .join() adds a string together from an iteration, starting from an empty string.\n",
    "            # .ljust() makes \"element\" left aligned.\n",
    "            # column width + 2 so there is space between the columns.\n",
    "            # the space is the same everywhere because we used the length of the biggest element.\n",
    "            # and we do this for every element in row. \n",
    "            row = \"\".join(element.ljust(column_width + 2) for element in row)\n",
    "            print(row)\n",
    "\n",
    "print_table(a_list)"
   ]
  },
  {
   "cell_type": "code",
   "execution_count": null,
   "id": "e7c4047a",
   "metadata": {},
   "outputs": [],
   "source": []
  }
 ],
 "metadata": {
  "kernelspec": {
   "display_name": "Python 3",
   "language": "python",
   "name": "python3"
  },
  "language_info": {
   "codemirror_mode": {
    "name": "ipython",
    "version": 3
   },
   "file_extension": ".py",
   "mimetype": "text/x-python",
   "name": "python",
   "nbconvert_exporter": "python",
   "pygments_lexer": "ipython3",
   "version": "3.8.8"
  }
 },
 "nbformat": 4,
 "nbformat_minor": 5
}
