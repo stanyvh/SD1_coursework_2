{
 "cells": [
  {
   "cell_type": "code",
   "execution_count": 1,
   "id": "4bf34274",
   "metadata": {},
   "outputs": [
    {
     "name": "stdout",
     "output_type": "stream",
     "text": [
      "user id     name        dob         \n",
      "1           stany       1995-11-26  \n",
      "2           sasha       1999-12-10  \n",
      "3           ina         1999-11-04  \n"
     ]
    }
   ],
   "source": [
    "zodiac_signs = [['user id', 'name', 'dob'], ['1', 'stany', '1995-11-26'], ['2', 'sasha', '1999-12-10'], ['3', 'ina', '1999-11-04']]\n",
    "\n",
    "length_list = [len(element) for row in zodiac_signs for element in row]\n",
    "column_width = max(length_list)\n",
    "\n",
    "for row in zodiac_signs:\n",
    "    row = \"\".join(element.ljust(column_width + 2) for element in row)\n",
    "    print(row) "
   ]
  },
  {
   "cell_type": "code",
   "execution_count": 19,
   "id": "a38ce321",
   "metadata": {},
   "outputs": [
    {
     "name": "stdout",
     "output_type": "stream",
     "text": [
      "user id     name        dob         \n",
      "1           stany       1995-11-26  \n",
      "2           sasha       1999-12-10  \n",
      "3           ina         1999-11-04  \n"
     ]
    }
   ],
   "source": [
    "# I iterate over every element of every list in the main list. \n",
    "# and save the length of that element in a list. \n",
    "for row in zodiac_signs:\n",
    "    for element in row: \n",
    "        length_list = len(element)\n",
    "\n",
    "# I then take the largest length and assign it to column_width, \n",
    "# which we will use for the column width for our table\n",
    "# so that every element fits. \n",
    "column_width = max(length_list)\n",
    "\n",
    "# iterate over every list in zodiac_signs list. \n",
    "for row in zodiac_signs:\n",
    "        # .join()we add a string together from an iteration \n",
    "        # .ljust() left aligned \n",
    "        # column width + 2 so there is space between the columns \n",
    "        # and we do this for every element in row. \n",
    "        row = \"\".join(element.ljust(column_width + 2) for element in row)\n",
    "        print(row)"
   ]
  },
  {
   "cell_type": "code",
   "execution_count": null,
   "id": "5daaa134",
   "metadata": {},
   "outputs": [],
   "source": []
  }
 ],
 "metadata": {
  "kernelspec": {
   "display_name": "Python 3",
   "language": "python",
   "name": "python3"
  },
  "language_info": {
   "codemirror_mode": {
    "name": "ipython",
    "version": 3
   },
   "file_extension": ".py",
   "mimetype": "text/x-python",
   "name": "python",
   "nbconvert_exporter": "python",
   "pygments_lexer": "ipython3",
   "version": "3.8.8"
  }
 },
 "nbformat": 4,
 "nbformat_minor": 5
}
