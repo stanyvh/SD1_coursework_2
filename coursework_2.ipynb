{
 "cells": [
  {
   "cell_type": "code",
   "execution_count": 28,
   "id": "1bf9f9ba",
   "metadata": {},
   "outputs": [],
   "source": [
    "import datetime\n",
    "from datetime import date"
   ]
  },
  {
   "cell_type": "markdown",
   "id": "5d88ad7b",
   "metadata": {},
   "source": [
    "# Version 1"
   ]
  },
  {
   "cell_type": "markdown",
   "id": "d96898b9",
   "metadata": {},
   "source": [
    "## Age is given in days"
   ]
  },
  {
   "cell_type": "code",
   "execution_count": 75,
   "id": "c6fc9f99",
   "metadata": {
    "scrolled": true
   },
   "outputs": [
    {
     "name": "stdout",
     "output_type": "stream",
     "text": [
      "Input your user ID, and press enter: 1\n",
      "Input your name, and press enter:  Stany\n",
      "Input your date of birth (YYYY-MM-DD), and press enter: 1995-11-26\n",
      "1995-11-26\n",
      "2021-11-10\n",
      "9481 days, 0:00:00\n"
     ]
    }
   ],
   "source": [
    "# Ask for input from the user.\n",
    "id_num = input(\"Input your user ID, and press enter: \")\n",
    "name = input(\"Input your name, and press enter:  \")\n",
    "input_dob = input(\"Input your date of birth (YYYY-MM-DD), and press enter: \")\n",
    "\n",
    "# convert the input to a date \n",
    "year, month, day = map(int, input_dob.split('-'))\n",
    "# Assign dob.\n",
    "dob = datetime.date(year, month, day)\n",
    "print(dob)\n",
    "\n",
    "# Calculate age \n",
    "# Assign today's date to the today variable.\n",
    "today = date.today()\n",
    "print(today)\n",
    "\n",
    "# Age is given in days\n",
    "age = today - dob\n",
    "print(age)"
   ]
  },
  {
   "cell_type": "markdown",
   "id": "bb9bad5a",
   "metadata": {},
   "source": [
    "## Age is given in years, but does not consider birthday"
   ]
  },
  {
   "cell_type": "code",
   "execution_count": 34,
   "id": "f1c7c9d8",
   "metadata": {},
   "outputs": [
    {
     "name": "stdout",
     "output_type": "stream",
     "text": [
      "Input your date of birth (YYYY-MM-DD), and press enter: 1995-11-26\n",
      "1995-11-26\n",
      "26\n"
     ]
    }
   ],
   "source": [
    "# Python3 code to calculate age in years\n",
    "\n",
    "from datetime import date\n",
    "\n",
    "input_dob = input(\"Input your date of birth (YYYY-MM-DD), and press enter: \")\n",
    "\n",
    "# convert the input to a date \n",
    "year, month, day = map(int, input_dob.split('-'))\n",
    "# Assign dob.\n",
    "dob = datetime.date(year, month, day)\n",
    "print(dob)\n",
    "\n",
    "\n",
    "today = date.today()\n",
    "age = today.year - dob.year #- ((today.month, today.day) < (dob.month, dob.day))\n",
    "\n",
    "print(age)"
   ]
  },
  {
   "cell_type": "markdown",
   "id": "cb5615dc",
   "metadata": {},
   "source": [
    "## Age considers birthday, using an if statement"
   ]
  },
  {
   "cell_type": "code",
   "execution_count": 76,
   "id": "a78d5746",
   "metadata": {},
   "outputs": [
    {
     "name": "stdout",
     "output_type": "stream",
     "text": [
      "Input your date of birth (YYYY-MM-DD), and press enter: 1995-11-26\n",
      "1995-11-26\n",
      "26\n",
      "25\n"
     ]
    }
   ],
   "source": [
    "# Python3 code to calculate age in years\n",
    "\n",
    "from datetime import date\n",
    "\n",
    "input_dob = input(\"Input your date of birth (YYYY-MM-DD), and press enter: \")\n",
    "\n",
    "# convert the input to a date \n",
    "year, month, day = map(int, input_dob.split('-'))\n",
    "# Assign dob.\n",
    "dob = datetime.date(year, month, day)\n",
    "print(dob)\n",
    "\n",
    "\n",
    "today = date.today()\n",
    "age = today.year - dob.year \n",
    "print(age)\n",
    "\n",
    "# if the date today is less than the bith month and day, meaning the birthday \n",
    "# of this year is still to come, subtract 1 year. \n",
    "# in other words in the year 2021 I should be 26 but my birthday is on the\n",
    "# 26th of November, so until that day I'm 25.\n",
    "\n",
    "# there is a shorter way for using this logic: \n",
    "# by subtracting the statement: ((today.month, today.day) < (dob.month, dob.day))\n",
    "# from today.year - dob.year.\n",
    "# if today.month and today.day is smaller than dob.month, dob.day,\n",
    "# python returns True or 1 and \n",
    "# it will subtract 1 from today.year - dob.year \n",
    "# For purpose of clearliness of the code I choose to stick with the if statement. \n",
    "\n",
    "if ((today.month, today.day) < (dob.month, dob.day)):\n",
    "    final_age = age -1\n",
    "else: \n",
    "    final_age = age\n",
    "\n",
    "print(final_age)"
   ]
  },
  {
   "cell_type": "markdown",
   "id": "f342e876",
   "metadata": {},
   "source": [
    "TRY AND EXCEPT STATMENT: \n",
    "    \n",
    "https://www.geeksforgeeks.org/python-program-to-calculate-age-in-year/"
   ]
  },
  {
   "cell_type": "markdown",
   "id": "cd2465a5",
   "metadata": {},
   "source": [
    "### 2 ways of converting a string from input to a date "
   ]
  },
  {
   "cell_type": "code",
   "execution_count": 66,
   "id": "419f520d",
   "metadata": {},
   "outputs": [
    {
     "name": "stdout",
     "output_type": "stream",
     "text": [
      "Input your date of birth (YYYY-MM-DD), and press enter: 1995-11-26\n",
      "1995-11-26\n"
     ]
    },
    {
     "data": {
      "text/plain": [
       "datetime.date"
      ]
     },
     "execution_count": 66,
     "metadata": {},
     "output_type": "execute_result"
    }
   ],
   "source": [
    "# Converting a string into a date using .split()\n",
    "\n",
    "input_dob = input(\"Input your date of birth (YYYY-MM-DD), and press enter: \")\n",
    "\n",
    "# convert the input to a date \n",
    "year, month, day = map(int, input_dob.split('-'))\n",
    "# Assign dob.\n",
    "dob = datetime.date(year, month, day)\n",
    "print(dob)\n",
    "type(dob)"
   ]
  },
  {
   "cell_type": "code",
   "execution_count": 67,
   "id": "d988b58a",
   "metadata": {},
   "outputs": [
    {
     "name": "stdout",
     "output_type": "stream",
     "text": [
      "Input your date of birth (YYYY-MM-DD), and press enter: 1995-11-26\n",
      "1995-11-26\n"
     ]
    },
    {
     "data": {
      "text/plain": [
       "datetime.date"
      ]
     },
     "execution_count": 67,
     "metadata": {},
     "output_type": "execute_result"
    }
   ],
   "source": [
    "# Converting a string into a date using date.fromisoformat()\n",
    "\n",
    "input_dob2 = input(\"Input your date of birth (YYYY-MM-DD), and press enter: \")\n",
    "\n",
    "dob2 = date.fromisoformat(input_dob2)\n",
    "print(dob2)\n",
    "type(dob2)"
   ]
  },
  {
   "cell_type": "markdown",
   "id": "e8ba8199",
   "metadata": {},
   "source": [
    "# Latest version "
   ]
  },
  {
   "cell_type": "code",
   "execution_count": 68,
   "id": "e1dce948",
   "metadata": {},
   "outputs": [
    {
     "name": "stdout",
     "output_type": "stream",
     "text": [
      "Input your date of birth (YYYY-MM-DD), and press enter: 1995-11-26\n",
      "1995-11-26\n",
      "26\n",
      "25\n"
     ]
    }
   ],
   "source": [
    "from datetime import date\n",
    "\n",
    "# Ask for input from the user.\n",
    "id_num = input(\"Input your user ID, and press enter: \")\n",
    "name = input(\"Input your name, and press enter:  \")\n",
    "input_dob = input(\"Input your date of birth (YYYY-MM-DD), and press enter: \")\n",
    "\n",
    "# Converting the input to a date. \n",
    "# .fromisoformat() transforms a string into a date type (if in the correct format).\n",
    "dob = date.fromisoformat(input_dob)\n",
    "print(dob)\n",
    "\n",
    "today = date.today()\n",
    "age = today.year - dob.year \n",
    "print(age)\n",
    "\n",
    "# if the date today is less than the bith month and day, meaning the birthday \n",
    "# of this year is still to come, subtract 1 year. \n",
    "# in other words in the year 2021 I should be 26 but my birthday is on the\n",
    "# 26th of November, so until that day I'm 25.\n",
    "\n",
    "# there is a shorter way for using this logic: \n",
    "# by subtracting the statement: ((today.month, today.day) < (dob.month, dob.day))\n",
    "# from today.year - dob.year.\n",
    "# if today.month and today.day is smaller than dob.month, dob.day,\n",
    "# python returns True or 1 and \n",
    "# it will subtract 1 from today.year - dob.year \n",
    "# For purpose of clearliness of the code I choose to stick with the if statement. \n",
    "\n",
    "if ((today.month, today.day) < (dob.month, dob.day)):\n",
    "    final_age = age -1\n",
    "else: \n",
    "    final_age = age\n",
    "\n",
    "print(final_age)"
   ]
  },
  {
   "cell_type": "markdown",
   "id": "3e04236d",
   "metadata": {},
   "source": [
    "# Assign the zodiac sign "
   ]
  },
  {
   "cell_type": "code",
   "execution_count": 106,
   "id": "388814b9",
   "metadata": {},
   "outputs": [
    {
     "name": "stdout",
     "output_type": "stream",
     "text": [
      "Input your date of birth (YYYY-MM-DD), and press enter: 1999-12-10\n",
      "Date of birth:  1999-12-10\n",
      "Birthday:  2021-12-10\n",
      "Age considering only the year:  22\n",
      "Real age:  21\n",
      "Zodiac sign:  Sagittarius\n"
     ]
    }
   ],
   "source": [
    "from datetime import date\n",
    "\n",
    "# INPUT \n",
    "# Ask for input from the user.\n",
    "id_num = input(\"Input your user ID, and press enter: \")\n",
    "name = input(\"Input your name, and press enter:  \")\n",
    "input_dob = input(\"Input your date of birth (YYYY-MM-DD), and press enter: \")\n",
    "\n",
    "\n",
    "# AGE \n",
    "# Converting the input to a date. \n",
    "# .fromisoformat() transforms a string into a date type (if in the correct format).\n",
    "dob = date.fromisoformat(input_dob)\n",
    "print(\"Date of birth: \", dob)\n",
    "\n",
    "# Replace the year in the dob with the current year and assing it to the variable birthday.\n",
    "birthday = dob.replace(year=today.year)\n",
    "print(\"Birthday: \", birthday)\n",
    "\n",
    "# Defining the date of today\n",
    "today = date.today()\n",
    "\n",
    "# Calculating the age by subtracting the year of the date of birth by the current year.\n",
    "age = today.year - dob.year \n",
    "print(\"Age considering only the year: \", age)\n",
    "\n",
    "# Defining the real age by considering the day and month: \n",
    "# if the date today is less than the bith month and day, meaning the birthday \n",
    "# of this year is still to come, subtract 1 year. \n",
    "# in other words in the year 2021 I should be 26 but my birthday is on the\n",
    "# 26th of November, so until that day I'm 25.\n",
    "\n",
    "# ****\n",
    "# there is a shorter way for using this logic: \n",
    "# by subtracting the statement: ((today.month, today.day) < (dob.month, dob.day))\n",
    "# from today.year - dob.year.\n",
    "# if today.month and today.day is smaller than dob.month, dob.day,\n",
    "# python returns True or 1 and \n",
    "# it will subtract 1 from today.year - dob.year \n",
    "# For purpose of clearliness of the code I choose to stick with the if statement. \n",
    "# ****\n",
    "if ((today.month, today.day) < (dob.month, dob.day)):\n",
    "    final_age = age -1\n",
    "else: \n",
    "    final_age = age\n",
    "\n",
    "print(\"Real age: \", final_age)\n",
    "\n",
    "\n",
    "# ZODIAC SIGN\n",
    "# if statement that defines the zodiac sign.\n",
    "if birthday >= date(today.year, 3, 21) and birthday <= date(today.year, 4, 19):\n",
    "    zodiac_sign = \"Aries\"\n",
    "elif birthday >= date(today.year, 4, 20) and birthday <= date(today.year, 4, 20):\n",
    "    zodiac_sign = \"Taurus\"\n",
    "elif birthday >= date(today.year, 5, 21) and birthday <= date(today.year, 6, 20):\n",
    "    zodiac_sign = \"Gemini\"\n",
    "elif birthday >= date(today.year, 6, 21) and birthday <= date(today.year, 7, 22):\n",
    "    zodiac_sign = \"Cancer\"\n",
    "elif birthday >= date(today.year, 7, 23) and birthday <= date(today.year, 8, 22):\n",
    "    zodiac_sign = \"Leo\"\n",
    "elif birthday >= date(today.year, 8, 23) and birthday <= date(today.year, 9, 22):\n",
    "    zodiac_sign = \"Virgo\"\n",
    "elif birthday >= date(today.year, 9, 23) and birthday <= date(today.year, 10, 22):\n",
    "    zodiac_sign = \"Libra\"\n",
    "elif birthday >= date(today.year, 9, 23) and birthday <= date(today.year, 11, 21):\n",
    "    zodiac_sign = \"Scorpio\"\n",
    "elif birthday >= date(today.year, 11, 22) and birthday <= date(today.year, 12, 21):\n",
    "    zodiac_sign = \"Sagittarius\"\n",
    "elif birthday >= date(today.year, 12, 22) and birthday <= date(today.year, 1, 19):\n",
    "    zodiac_sign = \"Capricorn\"\n",
    "elif birthday >= date(today.year, 1, 20) and birthday <= date(today.year, 2, 18):\n",
    "    zodiac_sign = \"Aquarius\"\n",
    "elif birthday >= date(today.year, 2, 19) and birthday <= date(today.year, 3, 20):\n",
    "    zodiac_sign = \"Pisces\"\n",
    "else:\n",
    "    print(\"Zodiac sign not found\")\n",
    "\n",
    "print(\"Zodiac sign: \", zodiac_sign)"
   ]
  },
  {
   "cell_type": "markdown",
   "id": "13903027",
   "metadata": {},
   "source": [
    "# Saving data to dictionary"
   ]
  },
  {
   "cell_type": "markdown",
   "id": "f569cd24",
   "metadata": {},
   "source": [
    "### Testing: "
   ]
  },
  {
   "cell_type": "code",
   "execution_count": 116,
   "id": "3574737f",
   "metadata": {
    "scrolled": true
   },
   "outputs": [
    {
     "name": "stdout",
     "output_type": "stream",
     "text": [
      "Input your user ID, and press enter: 1\n",
      "Input your name, and press enter:  stany\n",
      "Input your date of birth (YYYY-MM-DD), and press enter: 1995-11-26\n",
      "{'user id': [], 'name': [], 'dob': []}\n",
      "<class 'dict'>\n",
      "{'user id': ['1'], 'name': ['stany'], 'dob': ['1995-11-26']}\n",
      "<class 'dict'>\n",
      "Input your user ID, and press enter: 2\n",
      "Input your name, and press enter:  sasha\n",
      "Input your date of birth (YYYY-MM-DD), and press enter: 1999-12-10\n",
      "{'user id': ['1'], 'name': ['stany'], 'dob': ['1995-11-26']}\n",
      "<class 'dict'>\n",
      "{'user id': ['1', '2'], 'name': ['stany', 'sasha'], 'dob': ['1995-11-26', '1999-12-10']}\n",
      "<class 'dict'>\n"
     ]
    }
   ],
   "source": [
    "# Ask for input from the user.\n",
    "id_num = input(\"Input your user ID, and press enter: \")\n",
    "name = input(\"Input your name, and press enter:  \")\n",
    "input_dob = input(\"Input your date of birth (YYYY-MM-DD), and press enter: \")\n",
    "\n",
    "\n",
    "# Create an empty dictionary with keys\n",
    "zodiac_signs = {\n",
    "    'user id': [],\n",
    "    'name': [],\n",
    "    'dob': []\n",
    "}\n",
    "\n",
    "print(zodiac_signs)\n",
    "print(type(zodiac_signs))\n",
    "\n",
    "\n",
    "# inside the list of the key 'user id', append id_num\n",
    "zodiac_signs['user id'].append(id_num)\n",
    "zodiac_signs['name'].append(name)\n",
    "zodiac_signs['dob'].append(input_dob)\n",
    "\n",
    "print(zodiac_signs)\n",
    "print(type(zodiac_signs))\n",
    "\n",
    "\n",
    "# Ask for input from the user.\n",
    "id_num = input(\"Input your user ID, and press enter: \")\n",
    "name = input(\"Input your name, and press enter:  \")\n",
    "input_dob = input(\"Input your date of birth (YYYY-MM-DD), and press enter: \")\n",
    "\n",
    "print(zodiac_signs)\n",
    "print(type(zodiac_signs))\n",
    "\n",
    "# inside the list of th key 'user id', append id_num\n",
    "zodiac_signs['user id'].append(id_num)\n",
    "zodiac_signs['name'].append(name)\n",
    "zodiac_signs['dob'].append(input_dob)\n",
    "\n",
    "print(zodiac_signs)\n",
    "print(type(zodiac_signs))\n"
   ]
  },
  {
   "cell_type": "markdown",
   "id": "618e5237",
   "metadata": {},
   "source": [
    "## adding every iteration to the dictionary "
   ]
  },
  {
   "cell_type": "code",
   "execution_count": 124,
   "id": "509c7fd7",
   "metadata": {
    "scrolled": true
   },
   "outputs": [
    {
     "name": "stdout",
     "output_type": "stream",
     "text": [
      "Input your user ID, and press enter: 1\n",
      "Input your name, and press enter:  stany\n",
      "Input your date of birth (YYYY-MM-DD) including 0's, and press enter: 1995-11-26\n",
      "\n",
      "Date of birth:  1995-11-26\n",
      "Birthday:  2021-11-26\n",
      "Age considering only the year:  26\n",
      "Real age:  25\n",
      "Zodiac sign:  Sagittarius\n",
      "\n",
      "{'user id': ['1'], 'name': ['stany'], 'dob': ['1995-11-26']}\n",
      "<class 'dict'>\n",
      "Input your user ID, and press enter: 2\n",
      "Input your name, and press enter:  sasha\n",
      "Input your date of birth (YYYY-MM-DD) including 0's, and press enter: 1999-12-10\n",
      "\n",
      "Date of birth:  1999-12-10\n",
      "Birthday:  2021-12-10\n",
      "Age considering only the year:  22\n",
      "Real age:  21\n",
      "Zodiac sign:  Sagittarius\n",
      "\n",
      "{'user id': ['1', '2'], 'name': ['stany', 'sasha'], 'dob': ['1995-11-26', '1999-12-10']}\n",
      "<class 'dict'>\n",
      "Input your user ID, and press enter: 3\n",
      "Input your name, and press enter:  ina\n",
      "Input your date of birth (YYYY-MM-DD) including 0's, and press enter: 1999-11-04\n",
      "\n",
      "Date of birth:  1999-11-04\n",
      "Birthday:  2021-11-04\n",
      "Age considering only the year:  22\n",
      "Real age:  22\n",
      "Zodiac sign:  Scorpio\n",
      "\n",
      "{'user id': ['1', '2', '3'], 'name': ['stany', 'sasha', 'ina'], 'dob': ['1995-11-26', '1999-12-10', '1999-11-04']}\n",
      "<class 'dict'>\n"
     ]
    }
   ],
   "source": [
    "from datetime import date\n",
    "\n",
    "# Create an empty dictionary with keys\n",
    "zodiac_signs = {\n",
    "    'user id': [],\n",
    "    'name': [],\n",
    "    'dob': []\n",
    "}\n",
    "\n",
    "# ask how many inputs they want \n",
    "iteration = range(3)\n",
    "\n",
    "\n",
    "\n",
    "for i in iteration: \n",
    "\n",
    "    # INPUT \n",
    "    # Ask for input from the user.\n",
    "    id_num = input(\"Input your user ID, and press enter: \")\n",
    "    name = input(\"Input your name, and press enter:  \")\n",
    "    input_dob = input(\"Input your date of birth (YYYY-MM-DD) including 0's, and press enter: \")\n",
    "\n",
    "\n",
    "    # AGE \n",
    "    # Converting the input to a date. \n",
    "    # .fromisoformat() transforms a string into a date type (if in the correct format).\n",
    "    dob = date.fromisoformat(input_dob)\n",
    "    print(\"\\nDate of birth: \", dob)\n",
    "\n",
    "    # Replace the year in the dob with the current year and assing it to the variable birthday.\n",
    "    birthday = dob.replace(year=today.year)\n",
    "    print(\"Birthday: \", birthday)\n",
    "\n",
    "    # Defining the date of today\n",
    "    today = date.today()\n",
    "\n",
    "    # Calculating the age by subtracting the year of the date of birth by the current year.\n",
    "    age = today.year - dob.year \n",
    "    print(\"Age considering only the year: \", age)\n",
    "\n",
    "    # Defining the real age by considering the day and month: \n",
    "    # if the date today is less than the bith month and day, meaning the birthday \n",
    "    # of this year is still to come, subtract 1 year. \n",
    "    # in other words in the year 2021 I should be 26 but my birthday is on the\n",
    "    # 26th of November, so until that day I'm 25.\n",
    "\n",
    "    # ****\n",
    "    # there is a shorter way for using this logic: \n",
    "    # by subtracting the statement: ((today.month, today.day) < (dob.month, dob.day))\n",
    "    # from today.year - dob.year.\n",
    "    # if today.month and today.day is smaller than dob.month, dob.day,\n",
    "    # python returns True or 1 and \n",
    "    # it will subtract 1 from today.year - dob.year \n",
    "    # For purpose of clearliness of the code I choose to stick with the if statement. \n",
    "    # ****\n",
    "    if ((today.month, today.day) < (dob.month, dob.day)):\n",
    "        final_age = age -1\n",
    "    else: \n",
    "        final_age = age\n",
    "\n",
    "    print(\"Real age: \", final_age)\n",
    "\n",
    "\n",
    "    # ZODIAC SIGN\n",
    "    # if statement that defines the zodiac sign.\n",
    "    if birthday >= date(today.year, 3, 21) and birthday <= date(today.year, 4, 19):\n",
    "        zodiac_sign = \"Aries\"\n",
    "    elif birthday >= date(today.year, 4, 20) and birthday <= date(today.year, 4, 20):\n",
    "        zodiac_sign = \"Taurus\"\n",
    "    elif birthday >= date(today.year, 5, 21) and birthday <= date(today.year, 6, 20):\n",
    "        zodiac_sign = \"Gemini\"\n",
    "    elif birthday >= date(today.year, 6, 21) and birthday <= date(today.year, 7, 22):\n",
    "        zodiac_sign = \"Cancer\"\n",
    "    elif birthday >= date(today.year, 7, 23) and birthday <= date(today.year, 8, 22):\n",
    "        zodiac_sign = \"Leo\"\n",
    "    elif birthday >= date(today.year, 8, 23) and birthday <= date(today.year, 9, 22):\n",
    "        zodiac_sign = \"Virgo\"\n",
    "    elif birthday >= date(today.year, 9, 23) and birthday <= date(today.year, 10, 22):\n",
    "        zodiac_sign = \"Libra\"\n",
    "    elif birthday >= date(today.year, 9, 23) and birthday <= date(today.year, 11, 21):\n",
    "        zodiac_sign = \"Scorpio\"\n",
    "    elif birthday >= date(today.year, 11, 22) and birthday <= date(today.year, 12, 21):\n",
    "        zodiac_sign = \"Sagittarius\"\n",
    "    elif birthday >= date(today.year, 12, 22) and birthday <= date(today.year, 1, 19):\n",
    "        zodiac_sign = \"Capricorn\"\n",
    "    elif birthday >= date(today.year, 1, 20) and birthday <= date(today.year, 2, 18):\n",
    "        zodiac_sign = \"Aquarius\"\n",
    "    elif birthday >= date(today.year, 2, 19) and birthday <= date(today.year, 3, 20):\n",
    "        zodiac_sign = \"Pisces\"\n",
    "    else:\n",
    "        print(\"Zodiac sign not found\")\n",
    "\n",
    "    print(\"Zodiac sign: \", zodiac_sign)\n",
    "\n",
    "    # inside the list of the key 'user id', append id_num\n",
    "    zodiac_signs['user id'].append(id_num)\n",
    "    zodiac_signs['name'].append(name)\n",
    "    zodiac_signs['dob'].append(input_dob)\n",
    "    \n",
    "    print()\n",
    "    print(zodiac_signs)\n",
    "    print(type(zodiac_signs))\n"
   ]
  },
  {
   "cell_type": "markdown",
   "id": "03cd29f8",
   "metadata": {},
   "source": [
    "## Asking how many values the user wants to store"
   ]
  },
  {
   "cell_type": "code",
   "execution_count": 127,
   "id": "08013a06",
   "metadata": {
    "scrolled": true
   },
   "outputs": [
    {
     "name": "stdout",
     "output_type": "stream",
     "text": [
      "How many people do you want to add?: 3\n",
      "Input your user ID, and press enter: 1\n",
      "Input your name, and press enter:  stany\n",
      "Input your date of birth (YYYY-MM-DD) including 0's, and press enter: 1995-11-26\n",
      "\n",
      "Date of birth:  1995-11-26\n",
      "Birthday:  2021-11-26\n",
      "Age considering only the year:  26\n",
      "Real age:  25\n",
      "Zodiac sign:  Sagittarius\n",
      "\n",
      "{'user id': ['1'], 'name': ['stany'], 'dob': ['1995-11-26']}\n",
      "<class 'dict'>\n",
      "Input your user ID, and press enter: 2\n",
      "Input your name, and press enter:  sasha\n",
      "Input your date of birth (YYYY-MM-DD) including 0's, and press enter: 1999-12-10\n",
      "\n",
      "Date of birth:  1999-12-10\n",
      "Birthday:  2021-12-10\n",
      "Age considering only the year:  22\n",
      "Real age:  21\n",
      "Zodiac sign:  Sagittarius\n",
      "\n",
      "{'user id': ['1', '2'], 'name': ['stany', 'sasha'], 'dob': ['1995-11-26', '1999-12-10']}\n",
      "<class 'dict'>\n",
      "Input your user ID, and press enter: 3\n",
      "Input your name, and press enter:  ina\n",
      "Input your date of birth (YYYY-MM-DD) including 0's, and press enter: 1999-11-04\n",
      "\n",
      "Date of birth:  1999-11-04\n",
      "Birthday:  2021-11-04\n",
      "Age considering only the year:  22\n",
      "Real age:  22\n",
      "Zodiac sign:  Scorpio\n",
      "\n",
      "{'user id': ['1', '2', '3'], 'name': ['stany', 'sasha', 'ina'], 'dob': ['1995-11-26', '1999-12-10', '1999-11-04']}\n",
      "<class 'dict'>\n"
     ]
    }
   ],
   "source": [
    "from datetime import date\n",
    "\n",
    "# Create an empty dictionary with keys\n",
    "zodiac_signs = {\n",
    "    'user id': [],\n",
    "    'name': [],\n",
    "    'dob': []\n",
    "}\n",
    "\n",
    "# ask how many inputs they want \n",
    "iteration = int(input(\"How many people do you want to add?: \"))\n",
    "\n",
    "\n",
    "\n",
    "for i in range(iteration): \n",
    "\n",
    "    # INPUT \n",
    "    # Ask for input from the user.\n",
    "    id_num = input(\"Input your user ID, and press enter: \")\n",
    "    name = input(\"Input your name, and press enter:  \")\n",
    "    input_dob = input(\"Input your date of birth (YYYY-MM-DD) including 0's, and press enter: \")\n",
    "\n",
    "\n",
    "    # AGE \n",
    "    # Converting the input to a date. \n",
    "    # .fromisoformat() transforms a string into a date type (if in the correct format).\n",
    "    dob = date.fromisoformat(input_dob)\n",
    "    print(\"\\nDate of birth: \", dob)\n",
    "\n",
    "    # Replace the year in the dob with the current year and assing it to the variable birthday.\n",
    "    birthday = dob.replace(year=today.year)\n",
    "    print(\"Birthday: \", birthday)\n",
    "\n",
    "    # Defining the date of today\n",
    "    today = date.today()\n",
    "\n",
    "    # Calculating the age by subtracting the year of the date of birth by the current year.\n",
    "    age = today.year - dob.year \n",
    "    print(\"Age considering only the year: \", age)\n",
    "\n",
    "    # Defining the real age by considering the day and month: \n",
    "    # if the date today is less than the bith month and day, meaning the birthday \n",
    "    # of this year is still to come, subtract 1 year. \n",
    "    # in other words in the year 2021 I should be 26 but my birthday is on the\n",
    "    # 26th of November, so until that day I'm 25.\n",
    "\n",
    "    # ****\n",
    "    # there is a shorter way for using this logic: \n",
    "    # by subtracting the statement: ((today.month, today.day) < (dob.month, dob.day))\n",
    "    # from today.year - dob.year.\n",
    "    # if today.month and today.day is smaller than dob.month, dob.day,\n",
    "    # python returns True or 1 and \n",
    "    # it will subtract 1 from today.year - dob.year \n",
    "    # For purpose of clearliness of the code I choose to stick with the if statement. \n",
    "    # ****\n",
    "    if ((today.month, today.day) < (dob.month, dob.day)):\n",
    "        final_age = age -1\n",
    "    else: \n",
    "        final_age = age\n",
    "\n",
    "    print(\"Real age: \", final_age)\n",
    "\n",
    "\n",
    "    # ZODIAC SIGN\n",
    "    # if statement that defines the zodiac sign.\n",
    "    if birthday >= date(today.year, 3, 21) and birthday <= date(today.year, 4, 19):\n",
    "        zodiac_sign = \"Aries\"\n",
    "    elif birthday >= date(today.year, 4, 20) and birthday <= date(today.year, 4, 20):\n",
    "        zodiac_sign = \"Taurus\"\n",
    "    elif birthday >= date(today.year, 5, 21) and birthday <= date(today.year, 6, 20):\n",
    "        zodiac_sign = \"Gemini\"\n",
    "    elif birthday >= date(today.year, 6, 21) and birthday <= date(today.year, 7, 22):\n",
    "        zodiac_sign = \"Cancer\"\n",
    "    elif birthday >= date(today.year, 7, 23) and birthday <= date(today.year, 8, 22):\n",
    "        zodiac_sign = \"Leo\"\n",
    "    elif birthday >= date(today.year, 8, 23) and birthday <= date(today.year, 9, 22):\n",
    "        zodiac_sign = \"Virgo\"\n",
    "    elif birthday >= date(today.year, 9, 23) and birthday <= date(today.year, 10, 22):\n",
    "        zodiac_sign = \"Libra\"\n",
    "    elif birthday >= date(today.year, 9, 23) and birthday <= date(today.year, 11, 21):\n",
    "        zodiac_sign = \"Scorpio\"\n",
    "    elif birthday >= date(today.year, 11, 22) and birthday <= date(today.year, 12, 21):\n",
    "        zodiac_sign = \"Sagittarius\"\n",
    "    elif birthday >= date(today.year, 12, 22) and birthday <= date(today.year, 1, 19):\n",
    "        zodiac_sign = \"Capricorn\"\n",
    "    elif birthday >= date(today.year, 1, 20) and birthday <= date(today.year, 2, 18):\n",
    "        zodiac_sign = \"Aquarius\"\n",
    "    elif birthday >= date(today.year, 2, 19) and birthday <= date(today.year, 3, 20):\n",
    "        zodiac_sign = \"Pisces\"\n",
    "    else:\n",
    "        print(\"Zodiac sign not found\")\n",
    "\n",
    "    print(\"Zodiac sign: \", zodiac_sign)\n",
    "\n",
    "    # inside the list of the key 'user id', append id_num\n",
    "    zodiac_signs['user id'].append(id_num)\n",
    "    zodiac_signs['name'].append(name)\n",
    "    zodiac_signs['dob'].append(input_dob)\n",
    "    \n",
    "    print()\n",
    "    print(zodiac_signs)\n",
    "    print(type(zodiac_signs))\n",
    "\n"
   ]
  },
  {
   "cell_type": "markdown",
   "id": "2b1fe48a",
   "metadata": {},
   "source": [
    "# Using a list"
   ]
  },
  {
   "cell_type": "code",
   "execution_count": null,
   "id": "72c6b044",
   "metadata": {},
   "outputs": [],
   "source": [
    "from datetime import date\n",
    "\n",
    "# Create an empty dictionary with keys\n",
    "zodiac_signs = {\n",
    "    'user id': [],\n",
    "    'name': [],\n",
    "    'dob': []\n",
    "}\n",
    "\n",
    "# ask how many inputs they want \n",
    "iteration = int(input(\"How many people do you want to add?: \"))\n",
    "\n",
    "\n",
    "\n",
    "for i in range(iteration): \n",
    "\n",
    "    # INPUT \n",
    "    # Ask for input from the user.\n",
    "    id_num = input(\"Input your user ID, and press enter: \")\n",
    "    name = input(\"Input your name, and press enter:  \")\n",
    "    input_dob = input(\"Input your date of birth (YYYY-MM-DD) including 0's, and press enter: \")\n",
    "\n",
    "\n",
    "    # AGE \n",
    "    # Converting the input to a date. \n",
    "    # .fromisoformat() transforms a string into a date type (if in the correct format).\n",
    "    dob = date.fromisoformat(input_dob)\n",
    "    print(\"\\nDate of birth: \", dob)\n",
    "\n",
    "    # Replace the year in the dob with the current year and assing it to the variable birthday.\n",
    "    birthday = dob.replace(year=today.year)\n",
    "    print(\"Birthday: \", birthday)\n",
    "\n",
    "    # Defining the date of today\n",
    "    today = date.today()\n",
    "\n",
    "    # Calculating the age by subtracting the year of the date of birth by the current year.\n",
    "    age = today.year - dob.year \n",
    "    print(\"Age considering only the year: \", age)\n",
    "\n",
    "    # Defining the real age by considering the day and month: \n",
    "    # if the date today is less than the bith month and day, meaning the birthday \n",
    "    # of this year is still to come, subtract 1 year. \n",
    "    # in other words in the year 2021 I should be 26 but my birthday is on the\n",
    "    # 26th of November, so until that day I'm 25.\n",
    "\n",
    "    # ****\n",
    "    # there is a shorter way for using this logic: \n",
    "    # by subtracting the statement: ((today.month, today.day) < (dob.month, dob.day))\n",
    "    # from today.year - dob.year.\n",
    "    # if today.month and today.day is smaller than dob.month, dob.day,\n",
    "    # python returns True or 1 and \n",
    "    # it will subtract 1 from today.year - dob.year \n",
    "    # For purpose of clearliness of the code I choose to stick with the if statement. \n",
    "    # ****\n",
    "    if ((today.month, today.day) < (dob.month, dob.day)):\n",
    "        final_age = age -1\n",
    "    else: \n",
    "        final_age = age\n",
    "\n",
    "    print(\"Real age: \", final_age)\n",
    "\n",
    "\n",
    "    # ZODIAC SIGN\n",
    "    # if statement that defines the zodiac sign.\n",
    "    if birthday >= date(today.year, 3, 21) and birthday <= date(today.year, 4, 19):\n",
    "        zodiac_sign = \"Aries\"\n",
    "    elif birthday >= date(today.year, 4, 20) and birthday <= date(today.year, 4, 20):\n",
    "        zodiac_sign = \"Taurus\"\n",
    "    elif birthday >= date(today.year, 5, 21) and birthday <= date(today.year, 6, 20):\n",
    "        zodiac_sign = \"Gemini\"\n",
    "    elif birthday >= date(today.year, 6, 21) and birthday <= date(today.year, 7, 22):\n",
    "        zodiac_sign = \"Cancer\"\n",
    "    elif birthday >= date(today.year, 7, 23) and birthday <= date(today.year, 8, 22):\n",
    "        zodiac_sign = \"Leo\"\n",
    "    elif birthday >= date(today.year, 8, 23) and birthday <= date(today.year, 9, 22):\n",
    "        zodiac_sign = \"Virgo\"\n",
    "    elif birthday >= date(today.year, 9, 23) and birthday <= date(today.year, 10, 22):\n",
    "        zodiac_sign = \"Libra\"\n",
    "    elif birthday >= date(today.year, 9, 23) and birthday <= date(today.year, 11, 21):\n",
    "        zodiac_sign = \"Scorpio\"\n",
    "    elif birthday >= date(today.year, 11, 22) and birthday <= date(today.year, 12, 21):\n",
    "        zodiac_sign = \"Sagittarius\"\n",
    "    elif birthday >= date(today.year, 12, 22) and birthday <= date(today.year, 1, 19):\n",
    "        zodiac_sign = \"Capricorn\"\n",
    "    elif birthday >= date(today.year, 1, 20) and birthday <= date(today.year, 2, 18):\n",
    "        zodiac_sign = \"Aquarius\"\n",
    "    elif birthday >= date(today.year, 2, 19) and birthday <= date(today.year, 3, 20):\n",
    "        zodiac_sign = \"Pisces\"\n",
    "    else:\n",
    "        print(\"Zodiac sign not found\")\n",
    "\n",
    "    print(\"Zodiac sign: \", zodiac_sign)\n",
    "\n",
    "    # inside the list of the key 'user id', append id_num\n",
    "    zodiac_signs['user id'].append(id_num)\n",
    "    zodiac_signs['name'].append(name)\n",
    "    zodiac_signs['dob'].append(input_dob)\n",
    "    \n",
    "    print()\n",
    "    print(zodiac_signs)\n",
    "    print(type(zodiac_signs))\n",
    "\n",
    "\n"
   ]
  },
  {
   "cell_type": "code",
   "execution_count": null,
   "id": "831c492e",
   "metadata": {},
   "outputs": [],
   "source": []
  },
  {
   "cell_type": "markdown",
   "id": "7db51eb1",
   "metadata": {},
   "source": [
    "# Showing a table "
   ]
  },
  {
   "cell_type": "code",
   "execution_count": 132,
   "id": "db98c2e1",
   "metadata": {
    "scrolled": true
   },
   "outputs": [
    {
     "name": "stdout",
     "output_type": "stream",
     "text": [
      "Pos      Lang            Percent    Change    \n",
      "1        Python          33.2       UP        \n",
      "2        Java            23.54      DOWN      \n",
      "3        Ruby            17.22      UP        \n",
      "10       Lua             10.55      DOWN      \n",
      "5        Groovy          9.22       DOWN      \n",
      "6        C               1.55       UP        \n"
     ]
    }
   ],
   "source": [
    "## Python program to print the data\n",
    "# Using a dictionary \n",
    "d = {1: [\"Python\", 33.2, 'UP'],\n",
    "    2: [\"Java\", 23.54, 'DOWN'],\n",
    "    3: [\"Ruby\", 17.22, 'UP'],\n",
    "    10: [\"Lua\", 10.55, 'DOWN'],\n",
    "    5: [\"Groovy\", 9.22, 'DOWN'],\n",
    "    6: [\"C\", 1.55, 'UP'] }\n",
    "\n",
    "print (\"{:<8} {:<15} {:<10} {:<10}\".format('Pos','Lang','Percent','Change'))\n",
    "for k, v in d.items():\n",
    "    lang, perc, change = v\n",
    "    print (\"{:<8} {:<15} {:<10} {:<10}\".format(k, lang, perc, change))\n",
    "\n"
   ]
  },
  {
   "cell_type": "code",
   "execution_count": null,
   "id": "c47475c6",
   "metadata": {},
   "outputs": [],
   "source": [
    "# Using a list\n",
    "dota_teams = [\"Liquid\", \"Virtus.pro\", \"PSG.LGD\", \"Team Secret\"] data = [[1, 2, 1, 'x'],\n",
    "['x', 1, 1, 'x'],\n",
    "[1, 'x', 0, 1],\n",
    "[2, 0, 2, 1]] format_row = \"{:>12}\" * (len(dota_teams) + 1)\n",
    "print(format_row.format(\"\", *dota_teams))\n",
    "for team, row in zip(dota_teams, data):\n",
    "print(format_row.format(team, *row))"
   ]
  },
  {
   "cell_type": "code",
   "execution_count": 143,
   "id": "b954fbea",
   "metadata": {},
   "outputs": [
    {
     "name": "stdout",
     "output_type": "stream",
     "text": [
      "user id  name            dob       \n",
      "user id  name            dob       \n",
      "name     name            dob       \n",
      "dob      name            dob       \n"
     ]
    }
   ],
   "source": [
    "zodiac_signs = {\n",
    "    'user id': [1, 2, 3],\n",
    "    'name': ['stany', 'sasha', 'ina'],\n",
    "    'dob': ['1995-11-26', '1999-12-10', '1999-11-04']\n",
    "}\n",
    "\n",
    "print(\"{:<8} {:<15} {:<10}\".format('user id','name','dob'))\n",
    "for k, v in zodiac_signs.items():\n",
    "    label = v\n",
    "    num = v\n",
    "    print(\"{:<8} {:<15} {:<10}\".format(k, 'name', 'dob'))"
   ]
  },
  {
   "cell_type": "code",
   "execution_count": 169,
   "id": "6e451764",
   "metadata": {},
   "outputs": [
    {
     "name": "stdout",
     "output_type": "stream",
     "text": [
      "user_id name dob\n",
      "1\n",
      "stany\n",
      "1995-11-26\n"
     ]
    }
   ],
   "source": [
    "zodiac_signs = {\n",
    "    'user id': [1, 2, 3],\n",
    "    'name': ['stany', 'sasha', 'ina'],\n",
    "    'dob': ['1995-11-26', '1999-12-10', '1999-11-04']\n",
    "}\n",
    "\n",
    "print('user_id name dob')\n",
    "user_ids = zodiac_signs['user id']\n",
    "names = zodiac_signs['name']\n",
    "dobs = zodiac_signs['dob']\n",
    "\n",
    "for v, i, n in user_ids, names, dobs:\n",
    "    print('{}'.format(v))"
   ]
  },
  {
   "cell_type": "code",
   "execution_count": null,
   "id": "c007623e",
   "metadata": {},
   "outputs": [],
   "source": [
    "\n",
    "print(\"Name\\tAge\")\n",
    "\n",
    "for i in dic:\n",
    "    print(\"{}\\t{}\".format(i,dic[i]))"
   ]
  },
  {
   "cell_type": "code",
   "execution_count": null,
   "id": "7bc977ff",
   "metadata": {},
   "outputs": [],
   "source": []
  }
 ],
 "metadata": {
  "kernelspec": {
   "display_name": "Python 3",
   "language": "python",
   "name": "python3"
  },
  "language_info": {
   "codemirror_mode": {
    "name": "ipython",
    "version": 3
   },
   "file_extension": ".py",
   "mimetype": "text/x-python",
   "name": "python",
   "nbconvert_exporter": "python",
   "pygments_lexer": "ipython3",
   "version": "3.8.8"
  }
 },
 "nbformat": 4,
 "nbformat_minor": 5
}
